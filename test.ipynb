{
 "cells": [
  {
   "cell_type": "code",
   "execution_count": null,
   "metadata": {},
   "outputs": [
    {
     "name": "stdout",
     "output_type": "stream",
     "text": [
      "All stored vectors: [(1, 'example', array([0.1, 0.2, 0.3], dtype=float32)), (2, 'example', array([0.1, 0.2, 0.3], dtype=float32)), (3, 'example', array([0.1, 0.2, 0.3], dtype=float32)), (4, 'example', array([0.1, 0.2, 0.3], dtype=float32)), (5, 'example', array([0.1, 0.2, 0.3], dtype=float32))]\n",
      "Most similar result: (1, 'example', array([0.1, 0.2, 0.3], dtype=float32))\n"
     ]
    }
   ],
   "source": [
    "import psycopg2\n",
    "from pgvector.psycopg2 import register_vector\n",
    "\n",
    "conn = psycopg2.connect(\n",
    "    dbname=\"mydatabase\",\n",
    "    user=\"myuser\",\n",
    "    password=\"mypassword\",\n",
    "    host=\"localhost\",\n",
    "    port=\"5433\"\n",
    ")\n",
    "cur = conn.cursor()\n",
    "\n",
    "register_vector(cur)\n",
    "\n",
    "cur.execute(\"\"\"\n",
    "    CREATE TABLE IF NOT EXISTS test_vectors (\n",
    "        id SERIAL PRIMARY KEY,\n",
    "        name TEXT,\n",
    "        embedding vector(3)  -- 这里只用 3 维向量，简单测试\n",
    "    )\n",
    "\"\"\")\n",
    "conn.commit()\n",
    "\n",
    "cur.execute(\"\"\"\n",
    "    INSERT INTO test_vectors (name, embedding)\n",
    "    VALUES (%s, %s)\n",
    "\"\"\", (\"example\", [0.1, 0.2, 0.3]))\n",
    "conn.commit()\n",
    "\n",
    "cur.execute(\"SELECT id, name, embedding FROM test_vectors;\")\n",
    "print(\"All stored vectors:\", cur.fetchall())\n",
    "\n",
    "cur.execute(\"\"\"\n",
    "    SELECT id, name, embedding\n",
    "    FROM test_vectors\n",
    "    ORDER BY embedding <-> %s::vector\n",
    "    LIMIT 1\n",
    "\"\"\", (str([0.15, 0.25, 0.35]),))\n",
    "\n",
    "print(\"Most similar result:\", cur.fetchone())"
   ]
  }
 ],
 "metadata": {
  "kernelspec": {
   "display_name": "base",
   "language": "python",
   "name": "python3"
  },
  "language_info": {
   "codemirror_mode": {
    "name": "ipython",
    "version": 3
   },
   "file_extension": ".py",
   "mimetype": "text/x-python",
   "name": "python",
   "nbconvert_exporter": "python",
   "pygments_lexer": "ipython3",
   "version": "3.12.7"
  }
 },
 "nbformat": 4,
 "nbformat_minor": 2
}
